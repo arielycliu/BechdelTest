{
 "cells": [
  {
   "cell_type": "markdown",
   "metadata": {},
   "source": [
    "# Table of Contents\n",
    "\n",
    "### Read txt file\n",
    "Read the dialogue txt file\n",
    "General format listed below\n",
    "\n",
    "> Name: (actions) dialogue\n",
    "\n",
    "#### Read lines in file\n",
    "- clean up spaces\n",
    "\n",
    "#### Read names in file\n",
    "- cut off dialogue using the semicolon to split()\n",
    "\n",
    "## Testing\n",
    "\n",
    "### Score 1: There are two named women\n",
    "- two distinct female names\n",
    "\n",
    "### Score 2: The two named women talk to each other\n",
    "- one female name with the next line also being a female name\n",
    "\n",
    "### Score 3: The women talk about something other then men in one of the lines\n",
    "- within all female conversations\n",
    "- there is at least one line\n",
    "- with no mention of any male names or pronouns (him, he, his)\n",
    "\n",
    "\n",
    "1) Check there two women talking\n",
    "- list of names\n",
    "- two female names one after another (lisa, clare)\n",
    "\n",
    "\n",
    "\n",
    "2) Make sure there is no mention of male in the line where they are talking\n",
    "\n",
    "\n",
    "\n",
    "\n"
   ]
  },
  {
   "cell_type": "code",
   "execution_count": 92,
   "metadata": {},
   "outputs": [],
   "source": [
    "import numpy as np"
   ]
  },
  {
   "cell_type": "markdown",
   "metadata": {},
   "source": [
    "### Read File - return cleaned lines from script"
   ]
  },
  {
   "cell_type": "code",
   "execution_count": 93,
   "metadata": {},
   "outputs": [],
   "source": [
    "# returned cleaned lines\n",
    "def read_file(file):\n",
    "    lines = []\n",
    "    txt = open(file, \"r\")\n",
    "    for t in txt:\n",
    "        if t.strip() != \"\":\n",
    "            # if not blank\n",
    "            lines.append(t.strip().lower())\n",
    "            # remove spaces and convert to lowercase\n",
    "            \n",
    "    return lines"
   ]
  },
  {
   "cell_type": "code",
   "execution_count": 94,
   "metadata": {},
   "outputs": [],
   "source": [
    "script_lines = read_file(\"Dialogue.txt\")"
   ]
  },
  {
   "cell_type": "markdown",
   "metadata": {},
   "source": [
    "### Parse Names - return names in script"
   ]
  },
  {
   "cell_type": "code",
   "execution_count": 95,
   "metadata": {},
   "outputs": [],
   "source": [
    "def names_in_script(lines):\n",
    "    names = []\n",
    "    for l in lines:\n",
    "        name = l.split(\":\")[0]\n",
    "        names.append(name)\n",
    "        \n",
    "    return names"
   ]
  },
  {
   "cell_type": "code",
   "execution_count": 96,
   "metadata": {},
   "outputs": [],
   "source": [
    "names = names_in_script(script_lines)"
   ]
  },
  {
   "cell_type": "code",
   "execution_count": 97,
   "metadata": {},
   "outputs": [
    {
     "data": {
      "text/plain": [
       "['moe_szyslak',\n",
       " 'barney_gumble',\n",
       " 'barney_gumble',\n",
       " 'lisa_simpson',\n",
       " 'barney_gumble']"
      ]
     },
     "execution_count": 97,
     "metadata": {},
     "output_type": "execute_result"
    }
   ],
   "source": [
    "names[:5]"
   ]
  },
  {
   "cell_type": "markdown",
   "metadata": {},
   "source": [
    "# Check if two women - Score 1"
   ]
  },
  {
   "cell_type": "code",
   "execution_count": 135,
   "metadata": {},
   "outputs": [],
   "source": [
    "femaleNames = [\"lisa_simpson\", \"moe_szyslak\"]\n",
    "\n",
    "# look for two distinct named women\n",
    "def check_if_women(names):\n",
    "    counted_women = []\n",
    "    women_count = 0\n",
    "    \n",
    "    for n in names: # loop thru every speaker\n",
    "        if n in femaleNames: # some version of checking if female\n",
    "            if n not in counted_women: # make sure you didn't already count that person\n",
    "                women_count += 1\n",
    "                counted_women.append(n) # add to counted women\n",
    "    return women_count"
   ]
  },
  {
   "cell_type": "code",
   "execution_count": 129,
   "metadata": {},
   "outputs": [
    {
     "data": {
      "text/plain": [
       "2"
      ]
     },
     "execution_count": 129,
     "metadata": {},
     "output_type": "execute_result"
    }
   ],
   "source": [
    "check_if_women(names)"
   ]
  },
  {
   "cell_type": "markdown",
   "metadata": {},
   "source": [
    "# Check if two women talking - Score 2"
   ]
  },
  {
   "cell_type": "code",
   "execution_count": 134,
   "metadata": {},
   "outputs": [],
   "source": [
    "femaleNames = [\"lisa_simpson\", \"moe_szyslak\"]\n",
    "\n",
    "# return true if two women talk \n",
    "# if one female name is followed by another female name\n",
    "def check_if_women_talking(names):\n",
    "    \n",
    "    prevWomen = \"NULL\"\n",
    "    two_women_talking = False\n",
    "    \n",
    "    for n in names: # loop thru every speaker\n",
    "        if n in femaleNames: # some version of checking if female\n",
    "            #print(\"FEM:     \" + n, end=\"\")\n",
    "            #print(\"   ||  PREV:     \" + prevWomen)\n",
    "            if n != prevWomen and prevWomen != \"NULL\": # two women are talking\n",
    "                two_women_talking = True\n",
    "                break\n",
    "            else: # women not talking to another women\n",
    "                prevWomen = n\n",
    "        else:\n",
    "            prevWomen = \"NULL\" # not a women, no previous women talking\n",
    "    return two_women_talking"
   ]
  },
  {
   "cell_type": "code",
   "execution_count": 99,
   "metadata": {},
   "outputs": [
    {
     "data": {
      "text/plain": [
       "True"
      ]
     },
     "execution_count": 99,
     "metadata": {},
     "output_type": "execute_result"
    }
   ],
   "source": [
    "check_if_women_talking(names)"
   ]
  },
  {
   "cell_type": "markdown",
   "metadata": {},
   "source": [
    "# Check if two women talking about something that is not a man - Score 3"
   ]
  },
  {
   "cell_type": "markdown",
   "metadata": {},
   "source": [
    "Ways to identify gender of names\n",
    "- AI predict gender\n",
    "- database of names\n",
    "- user enter it\n"
   ]
  },
  {
   "cell_type": "markdown",
   "metadata": {},
   "source": [
    "### Parse women convos"
   ]
  },
  {
   "cell_type": "code",
   "execution_count": 132,
   "metadata": {},
   "outputs": [],
   "source": [
    "femaleNames = [\"lisa_simpson\", \"moe_szyslak\"]\n",
    "\n",
    "# Return an array of all the lines between two women talking\n",
    "def women_convos(lines):\n",
    "    \n",
    "    prevWomen = \"NULL\"\n",
    "    two_women_talking = False\n",
    "    women_convo = []\n",
    "    \n",
    "    for l in lines:\n",
    "        name = l.split(\":\")[0] # parse names\n",
    "        if name in femaleNames: # if female\n",
    "            if name != prevWomen and prevWomen != \"NULL\": # two women are talking\n",
    "                two_women_talking = True\n",
    "                \n",
    "                # append current line and line before\n",
    "                women_convo.append(l)\n",
    "                prevLine = lines.index(l) - 1\n",
    "                women_convo.append(lines[prevLine])\n",
    "                \n",
    "            else: # women not talking to another women\n",
    "                prevWomen = name\n",
    "        else:\n",
    "            prevWomen = \"NULL\" # male tlaking\n",
    "    return women_convo\n",
    "    \n"
   ]
  },
  {
   "cell_type": "code",
   "execution_count": 133,
   "metadata": {},
   "outputs": [],
   "source": [
    "womenConvo = women_convos(script_lines)"
   ]
  },
  {
   "cell_type": "markdown",
   "metadata": {},
   "source": [
    "### Check if any of the lines DON'T talk about men"
   ]
  },
  {
   "cell_type": "code",
   "execution_count": 130,
   "metadata": {},
   "outputs": [],
   "source": [
    "femaleNames = [\"lisa_simpson\", \"moe_szyslak\"]\n",
    "maleNames = [\"he\", \"him\", \"his\", \"barney_gumble\", \"homer_simpson\", \"homer\"]\n",
    "\n",
    "def women_talk_not_men(convos): # just need one line without men\n",
    "    not_about_men = False\n",
    "    for line in convos: # check each line  \n",
    "        for name in maleNames: # check each name\n",
    "            if name not in line:  # no mention of male in the lines\n",
    "                #print(f\"NO MALE {name}:   {line}\")\n",
    "                not_about_men = True\n",
    "            else:\n",
    "                #print(f\"MALE {name}:   {line}\")\n",
    "                not_about_men = False   # one of the male names is mentioned\n",
    "        if not_about_men == True:  # no mention of any male in the line\n",
    "            break\n",
    "        \n",
    "    return not_about_men\n",
    "\n"
   ]
  },
  {
   "cell_type": "code",
   "execution_count": 131,
   "metadata": {},
   "outputs": [
    {
     "data": {
      "text/plain": [
       "False"
      ]
     },
     "execution_count": 131,
     "metadata": {},
     "output_type": "execute_result"
    }
   ],
   "source": [
    "women_talk_not_men(womenConvo)"
   ]
  },
  {
   "cell_type": "code",
   "execution_count": null,
   "metadata": {},
   "outputs": [],
   "source": []
  },
  {
   "cell_type": "code",
   "execution_count": null,
   "metadata": {},
   "outputs": [],
   "source": []
  },
  {
   "cell_type": "code",
   "execution_count": null,
   "metadata": {},
   "outputs": [],
   "source": []
  },
  {
   "cell_type": "code",
   "execution_count": null,
   "metadata": {},
   "outputs": [],
   "source": []
  },
  {
   "cell_type": "code",
   "execution_count": null,
   "metadata": {},
   "outputs": [],
   "source": []
  }
 ],
 "metadata": {
  "kernelspec": {
   "display_name": "Python 3",
   "language": "python",
   "name": "python3"
  },
  "language_info": {
   "codemirror_mode": {
    "name": "ipython",
    "version": 3
   },
   "file_extension": ".py",
   "mimetype": "text/x-python",
   "name": "python",
   "nbconvert_exporter": "python",
   "pygments_lexer": "ipython3",
   "version": "3.8.5"
  }
 },
 "nbformat": 4,
 "nbformat_minor": 4
}
