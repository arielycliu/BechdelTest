{
 "cells": [
  {
   "cell_type": "markdown",
   "metadata": {},
   "source": [
    "# Table of Contents\n",
    "\n",
    "### Read txt file\n",
    "Read the dialogue txt file\n",
    "General format listed below\n",
    "\n",
    "> Name: (actions) dialogue\n",
    "\n",
    "https://www.kaggle.com/lauraeannielytics/lee-simpsons-moes-tavern-linestxt\n",
    "\n",
    "#### Read lines in file\n",
    "- clean up spaces\n",
    "\n",
    "#### Read names in file\n",
    "- cut off dialogue using the semicolon to split()\n",
    "\n",
    "## Testing\n",
    "\n",
    "### Score 1: There are two named women\n",
    "- two distinct female names\n",
    "\n",
    "### Score 2: The two named women talk to each other\n",
    "- one female name with the next line also being a female name\n",
    "\n",
    "### Score 3: The women talk about something other then men in one of the lines\n",
    "- within all female conversations\n",
    "- there is at least one line\n",
    "- with no mention of any male names or pronouns (him, he, his)\n",
    "\n",
    "\n",
    "1) Check there two women talking\n",
    "- list of names\n",
    "- two female names one after another (lisa, clare)\n",
    "\n",
    "\n",
    "\n",
    "2) Make sure there is no mention of male in the line where they are talking\n",
    "\n",
    "\n",
    "\n",
    "\n"
   ]
  },
  {
   "cell_type": "markdown",
   "metadata": {},
   "source": [
    "## Using AI to predict genders\n",
    "\n",
    "Same as the previous version but using AI to predict if a name is male or female\n",
    "- later on build a combined version where if it's not in the list try to predict it with AI as a later resort\n",
    "\n",
    "Database: https://pypi.org/project/gender-guesser/"
   ]
  },
  {
   "cell_type": "code",
   "execution_count": 37,
   "metadata": {},
   "outputs": [],
   "source": [
    "import numpy as np"
   ]
  },
  {
   "cell_type": "markdown",
   "metadata": {},
   "source": [
    "### Read File - return cleaned lines from script"
   ]
  },
  {
   "cell_type": "code",
   "execution_count": 38,
   "metadata": {},
   "outputs": [],
   "source": [
    "# returned cleaned lines\n",
    "def read_file(file):\n",
    "    lines = []\n",
    "    txt = open(file, \"r\")\n",
    "    for t in txt:\n",
    "        if t.strip() != \"\":\n",
    "            # if not blank\n",
    "            lines.append(t.strip().lower())\n",
    "            # remove spaces and convert to lowercase\n",
    "            \n",
    "    return lines"
   ]
  },
  {
   "cell_type": "code",
   "execution_count": 39,
   "metadata": {},
   "outputs": [],
   "source": [
    "script_lines = read_file(\"Dialogue.txt\")"
   ]
  },
  {
   "cell_type": "markdown",
   "metadata": {},
   "source": [
    "### Parse Names - return names in script"
   ]
  },
  {
   "cell_type": "markdown",
   "metadata": {},
   "source": [
    "Remove stuff after the underdash"
   ]
  },
  {
   "cell_type": "code",
   "execution_count": 40,
   "metadata": {},
   "outputs": [],
   "source": [
    "def names_in_script(lines):\n",
    "    names = []\n",
    "    for l in lines:\n",
    "        name = l.split(\":\")[0]\n",
    "        names.append(name.split(\"_\")[0])\n",
    "        \n",
    "    return names"
   ]
  },
  {
   "cell_type": "code",
   "execution_count": 41,
   "metadata": {},
   "outputs": [],
   "source": [
    "names = names_in_script(script_lines)"
   ]
  },
  {
   "cell_type": "code",
   "execution_count": 42,
   "metadata": {},
   "outputs": [
    {
     "data": {
      "text/plain": [
       "['abbey', 'barney', 'barney', 'lisa', 'barney']"
      ]
     },
     "execution_count": 42,
     "metadata": {},
     "output_type": "execute_result"
    }
   ],
   "source": [
    "names[:5]"
   ]
  },
  {
   "cell_type": "markdown",
   "metadata": {},
   "source": [
    "----Function to extract name from individual cleaned lowercase line--"
   ]
  },
  {
   "cell_type": "code",
   "execution_count": 43,
   "metadata": {},
   "outputs": [],
   "source": [
    "def line_to_name(line): # clean line to extract name, from lowercase lines\n",
    "    name = line.split(\":\")[0]   # lisa_lastname\n",
    "    return name.split(\"_\")[0] #lisa"
   ]
  },
  {
   "cell_type": "markdown",
   "metadata": {},
   "source": [
    "### Guess gender of names"
   ]
  },
  {
   "cell_type": "code",
   "execution_count": 44,
   "metadata": {},
   "outputs": [],
   "source": [
    "import gender_guesser.detector as gen"
   ]
  },
  {
   "cell_type": "code",
   "execution_count": 45,
   "metadata": {},
   "outputs": [],
   "source": [
    "# returned cleaned lines\n",
    "# input names in file\n",
    "# guess if female or male\n",
    "\n",
    "predict = gen.Detector(case_sensitive=False)\n",
    "\n",
    "def predict_gender_name(names):\n",
    "    femaleNames = []\n",
    "    maleNames = []\n",
    "    for name in names:\n",
    "        predicted_gender = predict.get_gender(name)\n",
    "        if predicted_gender == \"female\":\n",
    "            femaleNames.append(name)\n",
    "        elif predicted_gender == \"mostly_female\":\n",
    "            femaleNames.append(name)\n",
    "        elif predicted_gender == \"male\":\n",
    "            maleNames.append(name)\n",
    "        elif predicted_gender == \"mostly_male\":\n",
    "            maleNames.append(name)    \n",
    "    return femaleNames, maleNames"
   ]
  },
  {
   "cell_type": "code",
   "execution_count": 59,
   "metadata": {},
   "outputs": [],
   "source": [
    "femaleNames, maleNames = predict_gender_name(names)\n",
    "maleNames.extend([\"him\", \"his\", \"he\", \"husband\", \"boyfriend\"])"
   ]
  },
  {
   "cell_type": "code",
   "execution_count": 47,
   "metadata": {},
   "outputs": [
    {
     "data": {
      "text/plain": [
       "['abbey', 'lisa', 'abbey', 'lisa', 'abbey']"
      ]
     },
     "execution_count": 47,
     "metadata": {},
     "output_type": "execute_result"
    }
   ],
   "source": [
    "femaleNames[:5]"
   ]
  },
  {
   "cell_type": "code",
   "execution_count": 61,
   "metadata": {},
   "outputs": [
    {
     "data": {
      "text/plain": [
       "['him', 'his', 'he', 'husband', 'boyfriend']"
      ]
     },
     "execution_count": 61,
     "metadata": {},
     "output_type": "execute_result"
    }
   ],
   "source": [
    "maleNames[-5:]"
   ]
  },
  {
   "cell_type": "code",
   "execution_count": 62,
   "metadata": {},
   "outputs": [
    {
     "data": {
      "text/plain": [
       "'female'"
      ]
     },
     "execution_count": 62,
     "metadata": {},
     "output_type": "execute_result"
    }
   ],
   "source": [
    "predict.get_gender(\"Sabrina\")"
   ]
  },
  {
   "cell_type": "markdown",
   "metadata": {},
   "source": [
    "# Check if two women - Score 1"
   ]
  },
  {
   "cell_type": "code",
   "execution_count": 48,
   "metadata": {},
   "outputs": [],
   "source": [
    "# look for two distinct named women\n",
    "def check_if_women(names):\n",
    "    counted_women = []\n",
    "    women_count = 0\n",
    "    \n",
    "    for n in names: # loop thru every speaker\n",
    "        if n in femaleNames: # some version of checking if female\n",
    "            if n not in counted_women: # make sure you didn't already count that person\n",
    "                women_count += 1\n",
    "                counted_women.append(n) # add to counted women\n",
    "    return women_count"
   ]
  },
  {
   "cell_type": "code",
   "execution_count": 49,
   "metadata": {},
   "outputs": [
    {
     "data": {
      "text/plain": [
       "2"
      ]
     },
     "execution_count": 49,
     "metadata": {},
     "output_type": "execute_result"
    }
   ],
   "source": [
    "check_if_women(names)"
   ]
  },
  {
   "cell_type": "markdown",
   "metadata": {},
   "source": [
    "# Check if two women talking - Score 2"
   ]
  },
  {
   "cell_type": "code",
   "execution_count": 50,
   "metadata": {},
   "outputs": [],
   "source": [
    "# return true if two women talk \n",
    "# if one female name is followed by another female name\n",
    "def check_if_women_talking(names):\n",
    "    \n",
    "    prevWomen = \"NULL\"\n",
    "    two_women_talking = False\n",
    "    \n",
    "    for n in names: # loop thru every speaker\n",
    "        if n in femaleNames: # some version of checking if female\n",
    "            print(\"FEM:     \" + n, end=\"\")\n",
    "            print(\"   ||  PREV:     \" + prevWomen)\n",
    "            if n != prevWomen and prevWomen != \"NULL\": # two women are talking\n",
    "                two_women_talking = True\n",
    "                break\n",
    "            else: # women not talking to another women\n",
    "                prevWomen = n\n",
    "        else:\n",
    "            prevWomen = \"NULL\" # not a women, no previous women talking\n",
    "    return two_women_talking"
   ]
  },
  {
   "cell_type": "code",
   "execution_count": 51,
   "metadata": {},
   "outputs": [
    {
     "name": "stdout",
     "output_type": "stream",
     "text": [
      "FEM:     abbey   ||  PREV:     NULL\n",
      "FEM:     lisa   ||  PREV:     NULL\n",
      "FEM:     abbey   ||  PREV:     NULL\n",
      "FEM:     lisa   ||  PREV:     abbey\n"
     ]
    },
    {
     "data": {
      "text/plain": [
       "True"
      ]
     },
     "execution_count": 51,
     "metadata": {},
     "output_type": "execute_result"
    }
   ],
   "source": [
    "check_if_women_talking(names)"
   ]
  },
  {
   "cell_type": "markdown",
   "metadata": {},
   "source": [
    "# Check if two women talking about something that is not a man - Score 3"
   ]
  },
  {
   "cell_type": "markdown",
   "metadata": {},
   "source": [
    "Ways to identify gender of names\n",
    "- AI predict gender\n",
    "- database of names\n",
    "- user enter it\n"
   ]
  },
  {
   "cell_type": "markdown",
   "metadata": {},
   "source": [
    "### Parse women convos"
   ]
  },
  {
   "cell_type": "code",
   "execution_count": 52,
   "metadata": {},
   "outputs": [],
   "source": [
    "\n",
    "# Return an array of all the lines between two women talking\n",
    "def women_convos(lines):\n",
    "    \n",
    "    prevWomen = \"NULL\"\n",
    "    two_women_talking = False\n",
    "    women_convo = []\n",
    "    \n",
    "    for l in lines:\n",
    "        name = line_to_name(l) # parse names\n",
    "        if name in femaleNames: # if female\n",
    "\n",
    "            if name != prevWomen and prevWomen != \"NULL\": # two women are talking\n",
    "                two_women_talking = True\n",
    "                \n",
    "                # append current line and line before\n",
    "                women_convo.append(l)\n",
    "                prevLine = lines.index(l) - 1\n",
    "                women_convo.append(lines[prevLine])\n",
    "                \n",
    "            else: # women not talking to another women\n",
    "                prevWomen = name\n",
    "        else:\n",
    "            prevWomen = \"NULL\" # male tlaking\n",
    "    return women_convo\n",
    "    \n"
   ]
  },
  {
   "cell_type": "code",
   "execution_count": 53,
   "metadata": {},
   "outputs": [
    {
     "data": {
      "text/plain": [
       "['lisa_simpson: uh, excuse me, i have the chocolate milk, homer.',\n",
       " 'abbey_szyslak: here you go. one beer, one chocolate milk, homer.',\n",
       " 'lisa_simpson: he\\'s just a little nervous. (proudly) he has to give a speech tomorrow on \"how to keep cool in a crisis.\".',\n",
       " \"abbey_szyslak: what's the matter, homer? the depressin' effects of alcohol usually don't kick in 'til closing time, homer.\"]"
      ]
     },
     "execution_count": 53,
     "metadata": {},
     "output_type": "execute_result"
    }
   ],
   "source": [
    "womenConvo = women_convos(script_lines)\n",
    "women_convos(script_lines)"
   ]
  },
  {
   "cell_type": "code",
   "execution_count": 54,
   "metadata": {},
   "outputs": [
    {
     "data": {
      "text/plain": [
       "['lisa_simpson: uh, excuse me, i have the chocolate milk, homer.',\n",
       " 'abbey_szyslak: here you go. one beer, one chocolate milk, homer.',\n",
       " 'lisa_simpson: he\\'s just a little nervous. (proudly) he has to give a speech tomorrow on \"how to keep cool in a crisis.\".',\n",
       " \"abbey_szyslak: what's the matter, homer? the depressin' effects of alcohol usually don't kick in 'til closing time, homer.\"]"
      ]
     },
     "execution_count": 54,
     "metadata": {},
     "output_type": "execute_result"
    }
   ],
   "source": [
    "womenConvo[:5]"
   ]
  },
  {
   "cell_type": "markdown",
   "metadata": {},
   "source": [
    "### Check if any of the lines DON'T talk about men"
   ]
  },
  {
   "cell_type": "code",
   "execution_count": 55,
   "metadata": {},
   "outputs": [],
   "source": [
    "\n",
    "def women_talk_not_men(convos): # just need one line without men\n",
    "    not_about_men = False\n",
    "    for line in convos: # check each line  \n",
    "        for name in maleNames: # check each name\n",
    "            if name not in line:  # no mention of male in the lines\n",
    "                #print(f\"NO MALE {name}:   {line}\")\n",
    "                not_about_men = True\n",
    "            else:\n",
    "                #print(f\"MALE {name}:   {line}\")\n",
    "                not_about_men = False   # one of the male names is mentioned\n",
    "        if not_about_men == True:  # no mention of any male in the line\n",
    "            break\n",
    "        \n",
    "    return not_about_men\n",
    "\n"
   ]
  },
  {
   "cell_type": "code",
   "execution_count": 56,
   "metadata": {},
   "outputs": [
    {
     "data": {
      "text/plain": [
       "True"
      ]
     },
     "execution_count": 56,
     "metadata": {},
     "output_type": "execute_result"
    }
   ],
   "source": [
    "women_talk_not_men(womenConvo)\n",
    "# tested with one line without mention of men - WORKS"
   ]
  },
  {
   "cell_type": "code",
   "execution_count": null,
   "metadata": {},
   "outputs": [],
   "source": []
  },
  {
   "cell_type": "code",
   "execution_count": null,
   "metadata": {},
   "outputs": [],
   "source": []
  },
  {
   "cell_type": "code",
   "execution_count": null,
   "metadata": {},
   "outputs": [],
   "source": []
  },
  {
   "cell_type": "code",
   "execution_count": null,
   "metadata": {},
   "outputs": [],
   "source": []
  },
  {
   "cell_type": "code",
   "execution_count": null,
   "metadata": {},
   "outputs": [],
   "source": []
  }
 ],
 "metadata": {
  "kernelspec": {
   "display_name": "Python 3",
   "language": "python",
   "name": "python3"
  },
  "language_info": {
   "codemirror_mode": {
    "name": "ipython",
    "version": 3
   },
   "file_extension": ".py",
   "mimetype": "text/x-python",
   "name": "python",
   "nbconvert_exporter": "python",
   "pygments_lexer": "ipython3",
   "version": "3.8.5"
  }
 },
 "nbformat": 4,
 "nbformat_minor": 4
}
