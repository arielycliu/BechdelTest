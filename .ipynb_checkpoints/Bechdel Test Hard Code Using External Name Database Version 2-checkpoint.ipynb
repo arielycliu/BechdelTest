{
 "cells": [
  {
   "cell_type": "markdown",
   "metadata": {},
   "source": [
    "# Table of Contents\n",
    "\n",
    "### Read txt file\n",
    "Read the dialogue txt file\n",
    "General format listed below\n",
    "\n",
    "> Name: (actions) dialogue\n",
    "\n",
    "https://www.kaggle.com/lauraeannielytics/lee-simpsons-moes-tavern-linestxt\n",
    "\n",
    "#### Read lines in file\n",
    "- clean up spaces\n",
    "\n",
    "#### Read names in file\n",
    "- cut off dialogue using the semicolon to split()\n",
    "\n",
    "## Testing\n",
    "\n",
    "### Score 1: There are two named women\n",
    "- two distinct female names\n",
    "\n",
    "### Score 2: The two named women talk to each other\n",
    "- one female name with the next line also being a female name\n",
    "\n",
    "### Score 3: The women talk about something other then men in one of the lines\n",
    "- within all female conversations\n",
    "- there is at least one line\n",
    "- with no mention of any male names or pronouns (him, he, his)\n",
    "\n",
    "\n",
    "1) Check there two women talking\n",
    "- list of names\n",
    "- two female names one after another (lisa, clare)\n",
    "\n",
    "\n",
    "\n",
    "2) Make sure there is no mention of male in the line where they are talking\n",
    "\n",
    "\n",
    "\n",
    "\n"
   ]
  },
  {
   "cell_type": "markdown",
   "metadata": {},
   "source": [
    "Same as the previous version but using a name database to determine if it's a female or male name\n",
    "\n",
    "Database: http://www.cs.cmu.edu/afs/cs/project/ai-repository/ai/areas/nlp/corpora/names/"
   ]
  },
  {
   "cell_type": "code",
   "execution_count": 46,
   "metadata": {},
   "outputs": [],
   "source": [
    "import numpy as np"
   ]
  },
  {
   "cell_type": "markdown",
   "metadata": {},
   "source": [
    "### Read File - return cleaned lines from script"
   ]
  },
  {
   "cell_type": "code",
   "execution_count": 80,
   "metadata": {},
   "outputs": [],
   "source": [
    "# returned cleaned lines\n",
    "def read_file(file):\n",
    "    lines = []\n",
    "    txt = open(file, \"r\")\n",
    "    for t in txt:\n",
    "        if t.strip() != \"\":\n",
    "            # if not blank\n",
    "            lines.append(t.strip().lower())\n",
    "            # remove spaces and convert to lowercase\n",
    "            \n",
    "    return lines"
   ]
  },
  {
   "cell_type": "code",
   "execution_count": 81,
   "metadata": {},
   "outputs": [],
   "source": [
    "script_lines = read_file(\"Dialogue.txt\")"
   ]
  },
  {
   "cell_type": "markdown",
   "metadata": {},
   "source": [
    "### Parse Names - return names in script"
   ]
  },
  {
   "cell_type": "markdown",
   "metadata": {},
   "source": [
    "Remove stuff after the underdash"
   ]
  },
  {
   "cell_type": "code",
   "execution_count": 83,
   "metadata": {},
   "outputs": [],
   "source": [
    "def names_in_script(lines):\n",
    "    names = []\n",
    "    for l in lines:\n",
    "        name = l.split(\":\")[0]\n",
    "        names.append(name.split(\"_\")[0])\n",
    "        \n",
    "    return names"
   ]
  },
  {
   "cell_type": "code",
   "execution_count": 84,
   "metadata": {},
   "outputs": [],
   "source": [
    "names = names_in_script(script_lines)"
   ]
  },
  {
   "cell_type": "code",
   "execution_count": 85,
   "metadata": {},
   "outputs": [
    {
     "data": {
      "text/plain": [
       "['mag', 'barney', 'barney', 'lisa', 'barney']"
      ]
     },
     "execution_count": 85,
     "metadata": {},
     "output_type": "execute_result"
    }
   ],
   "source": [
    "names[:5]"
   ]
  },
  {
   "cell_type": "markdown",
   "metadata": {},
   "source": [
    "----Function to extract name from individual cleaned lowercase line--"
   ]
  },
  {
   "cell_type": "code",
   "execution_count": 109,
   "metadata": {},
   "outputs": [],
   "source": [
    "def line_to_name(line): # clean line to extract name, from lowercase lines\n",
    "    name = line.split(\":\")[0]   # lisa_simpsons\n",
    "    return name.split(\"_\")[0] #lisa"
   ]
  },
  {
   "cell_type": "markdown",
   "metadata": {},
   "source": [
    "### Parse Name File from database"
   ]
  },
  {
   "cell_type": "code",
   "execution_count": 86,
   "metadata": {},
   "outputs": [],
   "source": [
    "# returned cleaned lines\n",
    "def read_file_database(file):\n",
    "    names = []\n",
    "    txt = open(file, \"r\")\n",
    "    for t in txt:\n",
    "        if t.strip() != \"\" and not t.startswith(\"#\"):\n",
    "            # if not blank and not comments - don't remove comments cause credit\n",
    "            names.append(t.strip().lower())\n",
    "            # remove spaces and convert to lowercase   \n",
    "    return names"
   ]
  },
  {
   "cell_type": "code",
   "execution_count": 87,
   "metadata": {},
   "outputs": [],
   "source": [
    "femaleNames = read_file_database(\"Names/FemaleNames.txt\")\n",
    "maleNames = read_file_database(\"Names/MaleNames.txt\")"
   ]
  },
  {
   "cell_type": "code",
   "execution_count": 88,
   "metadata": {},
   "outputs": [
    {
     "data": {
      "text/plain": [
       "['abagael', 'abagail', 'abbe', 'abbey', 'abbi']"
      ]
     },
     "execution_count": 88,
     "metadata": {},
     "output_type": "execute_result"
    }
   ],
   "source": [
    "femaleNames[:5]"
   ]
  },
  {
   "cell_type": "markdown",
   "metadata": {},
   "source": [
    "# Check if two women - Score 1"
   ]
  },
  {
   "cell_type": "code",
   "execution_count": 89,
   "metadata": {},
   "outputs": [],
   "source": [
    "# look for two distinct named women\n",
    "def check_if_women(names):\n",
    "    counted_women = []\n",
    "    women_count = 0\n",
    "    \n",
    "    for n in names: # loop thru every speaker\n",
    "        if n in femaleNames: # some version of checking if female\n",
    "            if n not in counted_women: # make sure you didn't already count that person\n",
    "                women_count += 1\n",
    "                counted_women.append(n) # add to counted women\n",
    "    return women_count"
   ]
  },
  {
   "cell_type": "code",
   "execution_count": 90,
   "metadata": {},
   "outputs": [
    {
     "data": {
      "text/plain": [
       "2"
      ]
     },
     "execution_count": 90,
     "metadata": {},
     "output_type": "execute_result"
    }
   ],
   "source": [
    "check_if_women(names)"
   ]
  },
  {
   "cell_type": "markdown",
   "metadata": {},
   "source": [
    "# Check if two women talking - Score 2"
   ]
  },
  {
   "cell_type": "code",
   "execution_count": 93,
   "metadata": {},
   "outputs": [],
   "source": [
    "# return true if two women talk \n",
    "# if one female name is followed by another female name\n",
    "def check_if_women_talking(names):\n",
    "    \n",
    "    prevWomen = \"NULL\"\n",
    "    two_women_talking = False\n",
    "    \n",
    "    for n in names: # loop thru every speaker\n",
    "        if n in femaleNames: # some version of checking if female\n",
    "            print(\"FEM:     \" + n, end=\"\")\n",
    "            print(\"   ||  PREV:     \" + prevWomen)\n",
    "            if n != prevWomen and prevWomen != \"NULL\": # two women are talking\n",
    "                two_women_talking = True\n",
    "                break\n",
    "            else: # women not talking to another women\n",
    "                prevWomen = n\n",
    "        else:\n",
    "            prevWomen = \"NULL\" # not a women, no previous women talking\n",
    "    return two_women_talking"
   ]
  },
  {
   "cell_type": "code",
   "execution_count": 94,
   "metadata": {},
   "outputs": [
    {
     "name": "stdout",
     "output_type": "stream",
     "text": [
      "FEM:     mag   ||  PREV:     NULL\n",
      "FEM:     lisa   ||  PREV:     NULL\n",
      "FEM:     mag   ||  PREV:     NULL\n",
      "FEM:     lisa   ||  PREV:     mag\n"
     ]
    },
    {
     "data": {
      "text/plain": [
       "True"
      ]
     },
     "execution_count": 94,
     "metadata": {},
     "output_type": "execute_result"
    }
   ],
   "source": [
    "check_if_women_talking(names)"
   ]
  },
  {
   "cell_type": "markdown",
   "metadata": {},
   "source": [
    "# Check if two women talking about something that is not a man - Score 3"
   ]
  },
  {
   "cell_type": "markdown",
   "metadata": {},
   "source": [
    "Ways to identify gender of names\n",
    "- AI predict gender\n",
    "- database of names\n",
    "- user enter it\n"
   ]
  },
  {
   "cell_type": "markdown",
   "metadata": {},
   "source": [
    "### Parse women convos"
   ]
  },
  {
   "cell_type": "code",
   "execution_count": 114,
   "metadata": {},
   "outputs": [],
   "source": [
    "\n",
    "# Return an array of all the lines between two women talking\n",
    "def women_convos(lines):\n",
    "    \n",
    "    prevWomen = \"NULL\"\n",
    "    two_women_talking = False\n",
    "    women_convo = []\n",
    "    \n",
    "    for l in lines:\n",
    "        name = line_to_name(l) # parse names\n",
    "        if name in femaleNames: # if female\n",
    "\n",
    "            if name != prevWomen and prevWomen != \"NULL\": # two women are talking\n",
    "                two_women_talking = True\n",
    "                \n",
    "                # append current line and line before\n",
    "                women_convo.append(l)\n",
    "                prevLine = lines.index(l) - 1\n",
    "                women_convo.append(lines[prevLine])\n",
    "                \n",
    "            else: # women not talking to another women\n",
    "                prevWomen = name\n",
    "        else:\n",
    "            prevWomen = \"NULL\" # male tlaking\n",
    "    return women_convo\n",
    "    \n"
   ]
  },
  {
   "cell_type": "code",
   "execution_count": 115,
   "metadata": {},
   "outputs": [
    {
     "data": {
      "text/plain": [
       "['lisa_simpson: uh, excuse me, i have the chocolate milk, homer.',\n",
       " 'mag_szyslak: here you go. one beer, one chocolate milk, homer.',\n",
       " 'lisa_simpson: he\\'s just a little nervous. (proudly) he has to give a speech tomorrow on \"how to keep cool in a crisis.\".',\n",
       " \"mag_szyslak: what's the matter, homer? the depressin' effects of alcohol usually don't kick in 'til closing time, homer.\"]"
      ]
     },
     "execution_count": 115,
     "metadata": {},
     "output_type": "execute_result"
    }
   ],
   "source": [
    "womenConvo = women_convos(script_lines)\n",
    "women_convos(script_lines)"
   ]
  },
  {
   "cell_type": "code",
   "execution_count": 116,
   "metadata": {},
   "outputs": [
    {
     "data": {
      "text/plain": [
       "['lisa_simpson: uh, excuse me, i have the chocolate milk, homer.',\n",
       " 'mag_szyslak: here you go. one beer, one chocolate milk, homer.',\n",
       " 'lisa_simpson: he\\'s just a little nervous. (proudly) he has to give a speech tomorrow on \"how to keep cool in a crisis.\".',\n",
       " \"mag_szyslak: what's the matter, homer? the depressin' effects of alcohol usually don't kick in 'til closing time, homer.\"]"
      ]
     },
     "execution_count": 116,
     "metadata": {},
     "output_type": "execute_result"
    }
   ],
   "source": [
    "womenConvo[:5]"
   ]
  },
  {
   "cell_type": "markdown",
   "metadata": {},
   "source": [
    "### Check if any of the lines DON'T talk about men"
   ]
  },
  {
   "cell_type": "code",
   "execution_count": 119,
   "metadata": {},
   "outputs": [],
   "source": [
    "\n",
    "def women_talk_not_men(convos): # just need one line without men\n",
    "    not_about_men = False\n",
    "    for line in convos: # check each line  \n",
    "        for name in maleNames: # check each name\n",
    "            if name not in line:  # no mention of male in the lines\n",
    "                #print(f\"NO MALE {name}:   {line}\")\n",
    "                not_about_men = True\n",
    "            else:\n",
    "                #print(f\"MALE {name}:   {line}\")\n",
    "                not_about_men = False   # one of the male names is mentioned\n",
    "        if not_about_men == True:  # no mention of any male in the line\n",
    "            break\n",
    "        \n",
    "    return not_about_men\n",
    "\n"
   ]
  },
  {
   "cell_type": "code",
   "execution_count": 121,
   "metadata": {},
   "outputs": [
    {
     "data": {
      "text/plain": [
       "True"
      ]
     },
     "execution_count": 121,
     "metadata": {},
     "output_type": "execute_result"
    }
   ],
   "source": [
    "women_talk_not_men(womenConvo)\n",
    "# tested with one line without mention of men - WORKS"
   ]
  },
  {
   "cell_type": "code",
   "execution_count": null,
   "metadata": {},
   "outputs": [],
   "source": []
  },
  {
   "cell_type": "code",
   "execution_count": null,
   "metadata": {},
   "outputs": [],
   "source": []
  },
  {
   "cell_type": "code",
   "execution_count": null,
   "metadata": {},
   "outputs": [],
   "source": []
  },
  {
   "cell_type": "code",
   "execution_count": null,
   "metadata": {},
   "outputs": [],
   "source": []
  },
  {
   "cell_type": "code",
   "execution_count": null,
   "metadata": {},
   "outputs": [],
   "source": []
  }
 ],
 "metadata": {
  "kernelspec": {
   "display_name": "Python 3",
   "language": "python",
   "name": "python3"
  },
  "language_info": {
   "codemirror_mode": {
    "name": "ipython",
    "version": 3
   },
   "file_extension": ".py",
   "mimetype": "text/x-python",
   "name": "python",
   "nbconvert_exporter": "python",
   "pygments_lexer": "ipython3",
   "version": "3.8.5"
  }
 },
 "nbformat": 4,
 "nbformat_minor": 4
}
