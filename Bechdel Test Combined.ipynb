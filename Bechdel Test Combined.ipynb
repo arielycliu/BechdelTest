{
 "cells": [
  {
   "cell_type": "markdown",
   "metadata": {},
   "source": [
    "# Combined Methods to Predict Gender of Name\n",
    "\n",
    "1) Check if user added names\n",
    "\n",
    "> If name not in user's added names (either female or other)\n",
    "\n",
    "2) Check for name in database list\n",
    "\n",
    "> If name not in database list\n",
    "\n",
    "3) Predict using AI"
   ]
  },
  {
   "cell_type": "markdown",
   "metadata": {},
   "source": [
    "### Read File - return cleaned lines from script"
   ]
  },
  {
   "cell_type": "code",
   "execution_count": 152,
   "metadata": {},
   "outputs": [],
   "source": [
    "# returned cleaned lines\n",
    "def read_file(file):\n",
    "    lines = []\n",
    "    txt = open(file, \"r\")\n",
    "    for t in txt:\n",
    "        if t.strip() != \"\":\n",
    "            # if not blank\n",
    "            lines.append(t.strip().lower())\n",
    "            # remove spaces and convert to lowercase\n",
    "            \n",
    "    return lines"
   ]
  },
  {
   "cell_type": "code",
   "execution_count": 153,
   "metadata": {},
   "outputs": [],
   "source": [
    "# script_lines = read_file(\"Dialogue.txt\")"
   ]
  },
  {
   "cell_type": "markdown",
   "metadata": {},
   "source": [
    "### Parse Names - return names in script\n",
    "- only the first name"
   ]
  },
  {
   "cell_type": "code",
   "execution_count": 154,
   "metadata": {},
   "outputs": [],
   "source": [
    "def line_to_name(line): # clean line to extract name, from lowercase lines\n",
    "    name = line.split(\":\")[0]   # lisa_lastname\n",
    "    return name.split(\"_\")[0] #lisa"
   ]
  },
  {
   "cell_type": "code",
   "execution_count": 155,
   "metadata": {},
   "outputs": [],
   "source": [
    "# names = []\n",
    "# for l in script_lines:\n",
    "#     names.append(line_to_name(l))"
   ]
  },
  {
   "cell_type": "markdown",
   "metadata": {},
   "source": [
    "# Predicting Genders of Names"
   ]
  },
  {
   "cell_type": "markdown",
   "metadata": {},
   "source": [
    "## From User Input"
   ]
  },
  {
   "cell_type": "code",
   "execution_count": 158,
   "metadata": {},
   "outputs": [
    {
     "name": "stdout",
     "output_type": "stream",
     "text": [
      "Female: Lisa\n",
      "Other: Homer\n"
     ]
    }
   ],
   "source": [
    "# # Get input from website\n",
    "# femaleNames = input(\"Female: \").lower().split()\n",
    "# otherNames = input(\"Other: \").lower().split()"
   ]
  },
  {
   "cell_type": "markdown",
   "metadata": {},
   "source": [
    "## From Database"
   ]
  },
  {
   "cell_type": "code",
   "execution_count": 160,
   "metadata": {},
   "outputs": [],
   "source": [
    "# returned cleaned lines\n",
    "def read_file_database(file):\n",
    "    names = []\n",
    "    txt = open(file, \"r\")\n",
    "    for t in txt:\n",
    "        if t.strip() != \"\" and not t.startswith(\"#\"):\n",
    "            # if not blank and not comments - don't remove comments cause credit\n",
    "            names.append(t.strip().lower())\n",
    "            # remove spaces and convert to lowercase   \n",
    "    return names"
   ]
  },
  {
   "cell_type": "markdown",
   "metadata": {},
   "source": [
    "## From ML"
   ]
  },
  {
   "cell_type": "code",
   "execution_count": 162,
   "metadata": {},
   "outputs": [],
   "source": [
    "import gender_guesser.detector as gen\n",
    "\n",
    "# guess if female or not, append to global array\n",
    "\n",
    "predict = gen.Detector(case_sensitive=False)\n",
    "\n",
    "def predict_gender_name(name):\n",
    "    predicted_gender = predict.get_gender(name)\n",
    "    if predicted_gender == \"female\" or predicted_gender == \"mostly_female\": \n",
    "        return \"Female\"\n",
    "    else:\n",
    "        return \"Other\""
   ]
  },
  {
   "cell_type": "markdown",
   "metadata": {},
   "source": [
    "## Combined"
   ]
  },
  {
   "cell_type": "code",
   "execution_count": 163,
   "metadata": {},
   "outputs": [],
   "source": [
    "def check_if_female(name):\n",
    "    if name in femaleNames:   # checking from database and manual list\n",
    "        return \"Female\"\n",
    "    elif name in data_femaleNames:   # check in database\n",
    "        return \"Female\"\n",
    "    else:                  # last option use ai\n",
    "        predict_gender_name(name)\n",
    "        if name in femaleNames:    # now check the name again\n",
    "            return \"Female\"\n",
    "        else:\n",
    "            return \"Other\""
   ]
  },
  {
   "cell_type": "markdown",
   "metadata": {},
   "source": [
    "# Test 1 - If there are two women"
   ]
  },
  {
   "cell_type": "code",
   "execution_count": 165,
   "metadata": {},
   "outputs": [],
   "source": [
    "# look for two distinct named women\n",
    "def check_if_women(names):\n",
    "    counted_women = []\n",
    "    women_count = 0\n",
    "    for n in names: # loop thru every speaker\n",
    "        if check_if_female(n) == \"Female\": # some version of checking if female\n",
    "            if n not in counted_women: # make sure you didn't already count that person\n",
    "                women_count += 1\n",
    "                counted_women.append(n) # add to counted women\n",
    "    if women_count >= 2:\n",
    "        return True\n",
    "    else:\n",
    "        return False"
   ]
  },
  {
   "cell_type": "markdown",
   "metadata": {},
   "source": [
    "# Test 2 - Check if they talk"
   ]
  },
  {
   "cell_type": "code",
   "execution_count": 167,
   "metadata": {},
   "outputs": [],
   "source": [
    "# return true if two women talk \n",
    "# if one female name is followed by another female name\n",
    "def check_if_women_talking(names):\n",
    "    \n",
    "    prevWomen = \"NULL\"\n",
    "    two_women_talking = False\n",
    "    \n",
    "    for n in names: # loop thru every speaker\n",
    "        if check_if_female(n) == \"Female\": # some version of checking if female\n",
    "#             print(\"FEM:     \" + n, end=\"\")\n",
    "#             print(\"   ||  PREV:     \" + prevWomen)\n",
    "            if n != prevWomen and prevWomen != \"NULL\": # two women are talking\n",
    "                two_women_talking = True\n",
    "                break\n",
    "            else: # women not talking to another women\n",
    "                prevWomen = n\n",
    "        else:\n",
    "            prevWomen = \"NULL\" # not a women, no previous women talking\n",
    "    return two_women_talking"
   ]
  },
  {
   "cell_type": "markdown",
   "metadata": {},
   "source": [
    "# Test 3 - Two women talking about something that is not a man"
   ]
  },
  {
   "cell_type": "code",
   "execution_count": 169,
   "metadata": {},
   "outputs": [],
   "source": [
    "# Return an array of all the lines between two women talking\n",
    "def women_convos(lines):\n",
    "    prevWomen = \"NULL\"\n",
    "    two_women_talking = False\n",
    "    women_convo = []\n",
    "    for l in lines:\n",
    "        name = line_to_name(l) # parse names\n",
    "        if check_if_female(name) == \"Female\": # if female\n",
    "\n",
    "            if name != prevWomen and prevWomen != \"NULL\": # two women are talking\n",
    "                two_women_talking = True\n",
    "                \n",
    "                # append current line and line before\n",
    "                women_convo.append(l)\n",
    "                prevLine = lines.index(l) - 1\n",
    "                women_convo.append(lines[prevLine])\n",
    "                \n",
    "            else: # women not talking to another women\n",
    "                prevWomen = name\n",
    "        else:\n",
    "            prevWomen = \"NULL\" # male talking\n",
    "    return women_convo\n",
    "    \n"
   ]
  },
  {
   "cell_type": "code",
   "execution_count": 172,
   "metadata": {},
   "outputs": [],
   "source": [
    "def check_if_women_talking_not_men(convos): # just need one line without men\n",
    "    not_about_men = False\n",
    "    for line in convos: # check each line  \n",
    "        for name in otherNames: # check each name\n",
    "            #print(name)\n",
    "            if name not in line:  # no mention of male in the lines\n",
    "                #print(f\"NO MALE {name}:   {line}\")\n",
    "                not_about_men = True\n",
    "            else:\n",
    "                #print(f\"MALE {name}:   {line}\")\n",
    "                not_about_men = False   # one of the male names is mentioned\n",
    "                break\n",
    "        if not_about_men == True:  # no mention of any male in the line\n",
    "            break\n",
    "    return not_about_men"
   ]
  },
  {
   "cell_type": "markdown",
   "metadata": {},
   "source": [
    "# COMBINED"
   ]
  },
  {
   "cell_type": "code",
   "execution_count": 174,
   "metadata": {},
   "outputs": [],
   "source": [
    "script_lines = read_file(\"Dialogue.txt\")"
   ]
  },
  {
   "cell_type": "code",
   "execution_count": 175,
   "metadata": {},
   "outputs": [],
   "source": [
    "names = []\n",
    "for l in script_lines:\n",
    "    names.append(line_to_name(l))"
   ]
  },
  {
   "cell_type": "code",
   "execution_count": 176,
   "metadata": {},
   "outputs": [
    {
     "name": "stdout",
     "output_type": "stream",
     "text": [
      "Female: Lisa\n",
      "Other: Homer\n"
     ]
    }
   ],
   "source": [
    "# Get input from website\n",
    "femaleNames = input(\"Female: \").lower().split()\n",
    "otherNames = input(\"Other: \").lower().split()"
   ]
  },
  {
   "cell_type": "code",
   "execution_count": 177,
   "metadata": {},
   "outputs": [],
   "source": [
    "otherNames.extend([\"him\", \"his\", \"he\", \"husband\", \"boyfriend\", \"brother\", \"father\", \"uncle\", \"boy\"])"
   ]
  },
  {
   "cell_type": "code",
   "execution_count": 178,
   "metadata": {},
   "outputs": [],
   "source": [
    "data_femaleNames = read_file_database(\"Names/FemaleNames.txt\")\n",
    "data_otherNames = read_file_database(\"Names/MaleNames.txt\")"
   ]
  },
  {
   "cell_type": "code",
   "execution_count": 179,
   "metadata": {},
   "outputs": [],
   "source": [
    "for name in names:\n",
    "    gender = check_if_female(name)\n",
    "    if gender == \"Female\":\n",
    "        femaleNames.append(name)\n",
    "    else:\n",
    "        otherNames.append(name)"
   ]
  },
  {
   "cell_type": "code",
   "execution_count": 180,
   "metadata": {},
   "outputs": [],
   "source": [
    "passed = 0\n",
    "if check_if_women(names) == True:\n",
    "    passed += 1\n",
    "    if check_if_women_talking(names) == True:\n",
    "        passed += 1\n",
    "        womenConvo = women_convos(script_lines)\n",
    "        if check_if_women_talking_not_men(womenConvo) == True:\n",
    "            passed += 1\n",
    "            print(passed)\n",
    "else:\n",
    "    print(passed)"
   ]
  },
  {
   "cell_type": "code",
   "execution_count": null,
   "metadata": {},
   "outputs": [],
   "source": []
  },
  {
   "cell_type": "code",
   "execution_count": null,
   "metadata": {},
   "outputs": [],
   "source": []
  },
  {
   "cell_type": "code",
   "execution_count": null,
   "metadata": {},
   "outputs": [],
   "source": []
  },
  {
   "cell_type": "code",
   "execution_count": null,
   "metadata": {},
   "outputs": [],
   "source": []
  },
  {
   "cell_type": "code",
   "execution_count": null,
   "metadata": {},
   "outputs": [],
   "source": []
  },
  {
   "cell_type": "code",
   "execution_count": null,
   "metadata": {},
   "outputs": [],
   "source": []
  },
  {
   "cell_type": "code",
   "execution_count": null,
   "metadata": {},
   "outputs": [],
   "source": []
  },
  {
   "cell_type": "code",
   "execution_count": null,
   "metadata": {},
   "outputs": [],
   "source": []
  }
 ],
 "metadata": {
  "kernelspec": {
   "display_name": "Python 3",
   "language": "python",
   "name": "python3"
  },
  "language_info": {
   "codemirror_mode": {
    "name": "ipython",
    "version": 3
   },
   "file_extension": ".py",
   "mimetype": "text/x-python",
   "name": "python",
   "nbconvert_exporter": "python",
   "pygments_lexer": "ipython3",
   "version": "3.8.5"
  }
 },
 "nbformat": 4,
 "nbformat_minor": 4
}
